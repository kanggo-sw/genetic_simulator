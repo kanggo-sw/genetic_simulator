{
  "nbformat": 4,
  "nbformat_minor": 0,
  "metadata": {
    "colab": {
      "provenance": []
    },
    "kernelspec": {
      "name": "python3",
      "display_name": "Python 3"
    },
    "language_info": {
      "name": "python"
    }
  },
  "cells": [
    {
      "cell_type": "code",
      "execution_count": 1,
      "metadata": {
        "id": "UW2eLs4rVeUC"
      },
      "outputs": [],
      "source": [
        "import cv2, random, os, sys\n",
        "import numpy as np\n",
        "from copy import deepcopy\n",
        "from skimage.metrics import mean_squared_error as compare_mse\n",
        "import multiprocessing as mp\n",
        "from google.colab.patches import cv2_imshow"
      ]
    },
    {
      "cell_type": "code",
      "source": [
        "filepath = '사진경로'\n",
        "filename, ext = os.path.splitext(os.path.basename(filepath))"
      ],
      "metadata": {
        "id": "DC0AdfCbVe18"
      },
      "execution_count": 2,
      "outputs": []
    },
    {
      "cell_type": "code",
      "source": [
        "img = cv2.imread(filepath)\n",
        "height, width, channels = img.shape"
      ],
      "metadata": {
        "colab": {
          "base_uri": "https://localhost:8080/",
          "height": 203
        },
        "id": "p31LYfFxVg57",
        "outputId": "3bfd6779-f804-4f20-a268-e27b8e78ba8b"
      },
      "execution_count": 3,
      "outputs": [
        {
          "output_type": "error",
          "ename": "AttributeError",
          "evalue": "'NoneType' object has no attribute 'shape'",
          "traceback": [
            "\u001b[0;31m---------------------------------------------------------------------------\u001b[0m",
            "\u001b[0;31mAttributeError\u001b[0m                            Traceback (most recent call last)",
            "\u001b[0;32m<ipython-input-3-45e9404bb49b>\u001b[0m in \u001b[0;36m<cell line: 2>\u001b[0;34m()\u001b[0m\n\u001b[1;32m      1\u001b[0m \u001b[0mimg\u001b[0m \u001b[0;34m=\u001b[0m \u001b[0mcv2\u001b[0m\u001b[0;34m.\u001b[0m\u001b[0mimread\u001b[0m\u001b[0;34m(\u001b[0m\u001b[0mfilepath\u001b[0m\u001b[0;34m)\u001b[0m\u001b[0;34m\u001b[0m\u001b[0;34m\u001b[0m\u001b[0m\n\u001b[0;32m----> 2\u001b[0;31m \u001b[0mheight\u001b[0m\u001b[0;34m,\u001b[0m \u001b[0mwidth\u001b[0m\u001b[0;34m,\u001b[0m \u001b[0mchannels\u001b[0m \u001b[0;34m=\u001b[0m \u001b[0mimg\u001b[0m\u001b[0;34m.\u001b[0m\u001b[0mshape\u001b[0m\u001b[0;34m\u001b[0m\u001b[0;34m\u001b[0m\u001b[0m\n\u001b[0m",
            "\u001b[0;31mAttributeError\u001b[0m: 'NoneType' object has no attribute 'shape'"
          ]
        }
      ]
    },
    {
      "cell_type": "code",
      "source": [
        "# hyperparameters\n",
        "n_initial_genes = 50  # 첫번째 세대 유전자 수\n",
        "n_population = 50     # 세대 당 유전자 그룹 수\n",
        "prob_mutation = 0.01  # 변이 확률\n",
        "prob_add = 0.3        # 원 추가 확률\n",
        "prob_remove = 0.2     # 원 제거 확률\n",
        "\n",
        "min_radius, max_radius = 5, 15  #원 크기 선언\n",
        "save_every_n_iter = 100         #이미지 저장 주기 ex) 100세대마다"
      ],
      "metadata": {
        "id": "ezA5_DtZVlBc"
      },
      "execution_count": null,
      "outputs": []
    },
    {
      "cell_type": "code",
      "source": [
        "# Gene\n",
        "class Gene(): # 유전자(한개의 원)에 대한 클래스\n",
        "  def __init__(self):\n",
        "    self.center = np.array([random.randint(0, width), random.randint(0, height)])\n",
        "    self.radius = random.randint(min_radius, max_radius)\n",
        "    self.color = np.array([random.randint(0, 255), random.randint(0, 255), random.randint(0, 255)])\n",
        "\n",
        "  def mutate(self):\n",
        "    mutation_size = max(1, int(round(random.gauss(15, 4)))) / 100 # 변이 정도\n",
        "\n",
        "    r = random.uniform(0, 1)\n",
        "    if r < 0.33: # radius\n",
        "      self.radius = np.clip(random.randint(\n",
        "        int(self.radius * (1 - mutation_size)),\n",
        "        int(self.radius * (1 + mutation_size))\n",
        "      ), 1, 100)\n",
        "    elif r < 0.66: # center\n",
        "      self.center = np.array([\n",
        "        np.clip(random.randint(\n",
        "          int(self.center[0] * (1 - mutation_size)),\n",
        "          int(self.center[0] * (1 + mutation_size))),\n",
        "        0, width),\n",
        "        np.clip(random.randint(\n",
        "          int(self.center[1] * (1 - mutation_size)),\n",
        "          int(self.center[1] * (1 + mutation_size))),\n",
        "        0, height)\n",
        "      ])\n",
        "    else: # color\n",
        "      self.color = np.array([\n",
        "        np.clip(random.randint(\n",
        "          int(self.color[0] * (1 - mutation_size)),\n",
        "          int(self.color[0] * (1 + mutation_size))),\n",
        "        0, 255),\n",
        "        np.clip(random.randint(\n",
        "          int(self.color[1] * (1 - mutation_size)),\n",
        "          int(self.color[1] * (1 + mutation_size))),\n",
        "        0, 255),\n",
        "        np.clip(random.randint(\n",
        "          int(self.color[2] * (1 - mutation_size)),\n",
        "          int(self.color[2] * (1 + mutation_size))),\n",
        "        0, 255)\n",
        "      ])\n",
        "\n",
        "# compute fitness\n",
        "def compute_fitness(genome):\n",
        "  out = np.ones((height, width, channels), dtype=np.uint8) * 255\n",
        "\n",
        "  for gene in genome:\n",
        "    cv2.circle(out, center=tuple(gene.center), radius=gene.radius, color=(int(gene.color[0]), int(gene.color[1]), int(gene.color[2])), thickness=-1)\n",
        "\n",
        "  # mean squared error\n",
        "  fitness = 255. / compare_mse(img, out)\n",
        "\n",
        "  return fitness, out\n",
        "\n",
        "# compute population\n",
        "def compute_population(g):\n",
        "  genome = deepcopy(g)\n",
        "  # mutation\n",
        "  if len(genome) < 200:\n",
        "    for gene in genome:\n",
        "      if random.uniform(0, 1) < prob_mutation:\n",
        "        gene.mutate()\n",
        "  else:\n",
        "    for gene in random.sample(genome, k=int(len(genome) * prob_mutation)):\n",
        "      gene.mutate()\n",
        "\n",
        "  # add gene\n",
        "  if random.uniform(0, 1) < prob_add:\n",
        "    genome.append(Gene())\n",
        "\n",
        "  # remove gene\n",
        "  if len(genome) > 0 and random.uniform(0, 1) < prob_remove:\n",
        "    genome.remove(random.choice(genome))\n",
        "\n",
        "  # compute fitness\n",
        "  new_fitness, new_out = compute_fitness(genome)\n",
        "\n",
        "  return new_fitness, genome, new_out\n",
        "\n",
        "# main\n",
        "if __name__ == '__main__':\n",
        "  os.makedirs('result', exist_ok=True)\n",
        "\n",
        "  p = mp.Pool(mp.cpu_count() - 1)\n",
        "\n",
        "  # 1st gene\n",
        "  best_genome = [Gene() for _ in range(n_initial_genes)]\n",
        "\n",
        "  best_fitness, best_out = compute_fitness(best_genome)\n",
        "\n",
        "  n_gen = 0\n",
        "\n",
        "  while True:\n",
        "    try:\n",
        "      results = p.map(compute_population, [deepcopy(best_genome)] * n_population)\n",
        "    except KeyboardInterrupt:\n",
        "      p.close()\n",
        "      break\n",
        "\n",
        "    results.append([best_fitness, best_genome, best_out])\n",
        "\n",
        "    new_fitnesses, new_genomes, new_outs = zip(*results)\n",
        "\n",
        "    best_result = sorted(zip(new_fitnesses, new_genomes, new_outs), key=lambda x: x[0], reverse=True)\n",
        "\n",
        "    best_fitness, best_genome, best_out = best_result[0]\n",
        "\n",
        "    # end of generation\n",
        "    print('Generation #%s, Fitness %s' % (n_gen, best_fitness))\n",
        "    n_gen += 1\n",
        "\n",
        "    # visualize\n",
        "    if n_gen % save_every_n_iter == 0:\n",
        "      cv2.imwrite('result/%s_%s.jpg' % (filename, n_gen), best_out)\n",
        "\n",
        "    cv2_imshow(best_out)\n",
        "    if cv2.waitKey(1) == ord('q'):\n",
        "     p.close()\n",
        "     break\n",
        "\n",
        "  cv2_imshow(best_out)\n",
        "  cv2.waitKey(0)"
      ],
      "metadata": {
        "id": "O9yzIuYdVoNE"
      },
      "execution_count": null,
      "outputs": []
    }
  ]
}